{
 "cells": [
  {
   "cell_type": "code",
   "execution_count": 85,
   "metadata": {},
   "outputs": [],
   "source": [
    "import pandas as pd"
   ]
  },
  {
   "cell_type": "code",
   "execution_count": 86,
   "metadata": {},
   "outputs": [
    {
     "data": {
      "text/plain": [
       "[{'name': 'Гречищева Наталья', 'year': '2017'},\n",
       " {'name': 'Куликова Наталья', 'year': '2008'}]"
      ]
     },
     "execution_count": 86,
     "metadata": {},
     "output_type": "execute_result"
    }
   ],
   "source": [
    "doctors = [{\n",
    "    \"name\": x[2:].strip().split(\" (\")[0],\n",
    "    \"year\": x[2:].strip().split(\" (\")[1][:-1]\n",
    "    } for x in open(\"alumni.md\").readlines()[6:8]\n",
    "]\n",
    "doctors"
   ]
  },
  {
   "cell_type": "code",
   "execution_count": 87,
   "metadata": {},
   "outputs": [
    {
     "data": {
      "text/plain": [
       "[{'name': 'Воликов Александр', 'year': '2018'},\n",
       " {'name': 'Жеребкер Александр', 'year': '2017'},\n",
       " {'name': 'Соркина Татьяна', 'year': '2014'},\n",
       " {'name': 'Щербина Наталья', 'year': '2009'},\n",
       " {'name': 'Карпюк Леонид', 'year': '2008'},\n",
       " {'name': 'Салеем Кайд', 'year': '2004'},\n",
       " {'name': 'Холодов Владимир', 'year': '2003'},\n",
       " {'name': 'Гречищева Наталья', 'year': '2000'},\n",
       " {'name': 'Куликова Наталья', 'year': '1999'},\n",
       " {'name': 'Жилин Денис', 'year': '1998'},\n",
       " {'name': 'Ковалевский Дмитрий', 'year': '1998'},\n",
       " {'name': 'Анисимова Марина', 'year': '1997'},\n",
       " {'name': 'Данченко Наталья', 'year': '1997'}]"
      ]
     },
     "execution_count": 87,
     "metadata": {},
     "output_type": "execute_result"
    }
   ],
   "source": [
    "phd = [{\n",
    "    \"name\": x[2:].strip().split(\" (\")[0],\n",
    "    \"year\": x[2:].strip().split(\" (\")[1][:-1]\n",
    "    } for x in open(\"alumni.md\").readlines()[10:23]\n",
    "]\n",
    "phd"
   ]
  },
  {
   "cell_type": "code",
   "execution_count": 88,
   "metadata": {},
   "outputs": [
    {
     "data": {
      "text/plain": [
       "[{'name': 'Мареев Никита', 'year': '2020'},\n",
       " {'name': 'Туркова Александра', 'year': '2018'},\n",
       " {'name': 'Жеребкер Александр', 'year': '2012'},\n",
       " {'name': 'Казачков Михаил', 'year': '2012'},\n",
       " {'name': 'Манца Анджушев', 'year': '2012'},\n",
       " {'name': 'Поляков Александр', 'year': '2011'},\n",
       " {'name': 'Воликов Александр', 'year': '2011'},\n",
       " {'name': 'Дубиненков Иван', 'year': '2011'},\n",
       " {'name': 'Гаранин Евгений', 'year': '2011'},\n",
       " {'name': 'Артемов Антон', 'year': '2009'},\n",
       " {'name': 'Нецветай Анна', 'year': '2008'},\n",
       " {'name': 'Калакин Алексей', 'year': '2008'},\n",
       " {'name': 'Болкова Анна', 'year': '2007'},\n",
       " {'name': 'Ильюхина Екатерина', 'year': '2005'},\n",
       " {'name': 'Карпюк Леонид', 'year': '2005'},\n",
       " {'name': 'Коваленко Антон', 'year': '2004'},\n",
       " {'name': 'Беляева Елена', 'year': '2004'},\n",
       " {'name': 'Панкова Анна', 'year': '2002'},\n",
       " {'name': 'Юдов Матвей', 'year': '1999'},\n",
       " {'name': 'Поляков Станислав', 'year': '1999'},\n",
       " {'name': 'Холодов Владимир', 'year': '1998'},\n",
       " {'name': 'Филлипова Ольга', 'year': '1995'},\n",
       " {'name': 'Куликова Наталья', 'year': '1995'}]"
      ]
     },
     "execution_count": 88,
     "metadata": {},
     "output_type": "execute_result"
    }
   ],
   "source": [
    "students = [{\n",
    "    \"name\": x[2:].strip().split(\" (\")[0],\n",
    "    \"year\": x[2:].strip().split(\" (\")[1][:-1]\n",
    "    } for x in open(\"alumni.md\").readlines()[26:]\n",
    "]\n",
    "students"
   ]
  },
  {
   "cell_type": "code",
   "execution_count": 89,
   "metadata": {},
   "outputs": [],
   "source": [
    "from transliterate import translit\n",
    "def save(obj, folder):\n",
    "    for item in obj:\n",
    "        with open(f'{folder}/{\"_\".join(translit(item[\"name\"], \"ru\", reversed=True).split()).lower()}.md', \"w\") as f:\n",
    "            f.write('---\\n')\n",
    "            f.write(f'name: {item[\"name\"]}\\n')\n",
    "            f.write(f'year: {item[\"year\"]}\\n')\n",
    "            f.write('---\\n')"
   ]
  },
  {
   "cell_type": "code",
   "execution_count": 90,
   "metadata": {},
   "outputs": [],
   "source": [
    "save(doctors, \"_doctors\")"
   ]
  },
  {
   "cell_type": "code",
   "execution_count": 91,
   "metadata": {},
   "outputs": [],
   "source": [
    "save(phd, \"_phd\")"
   ]
  },
  {
   "cell_type": "code",
   "execution_count": 92,
   "metadata": {},
   "outputs": [],
   "source": [
    "save(students, \"_graduates\")"
   ]
  },
  {
   "cell_type": "code",
   "execution_count": 60,
   "metadata": {},
   "outputs": [],
   "source": []
  },
  {
   "cell_type": "code",
   "execution_count": 69,
   "metadata": {},
   "outputs": [
    {
     "data": {
      "text/plain": [
       "'Privet'"
      ]
     },
     "execution_count": 69,
     "metadata": {},
     "output_type": "execute_result"
    }
   ],
   "source": [
    "translit(\"Привет\", \"ru\", reversed=True)"
   ]
  }
 ],
 "metadata": {
  "kernelspec": {
   "display_name": "Python 3",
   "language": "python",
   "name": "python3"
  },
  "language_info": {
   "codemirror_mode": {
    "name": "ipython",
    "version": 3
   },
   "file_extension": ".py",
   "mimetype": "text/x-python",
   "name": "python",
   "nbconvert_exporter": "python",
   "pygments_lexer": "ipython3",
   "version": "3.7.9"
  }
 },
 "nbformat": 4,
 "nbformat_minor": 4
}
